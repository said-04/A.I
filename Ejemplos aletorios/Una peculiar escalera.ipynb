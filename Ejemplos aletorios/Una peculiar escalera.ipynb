{
 "cells": [
  {
   "cell_type": "markdown",
   "metadata": {},
   "source": [
    "#### Asociada con el conjunto de Cantor, en la base A = 1/2 L = 2!"
   ]
  },
  {
   "cell_type": "code",
   "execution_count": 3,
   "metadata": {},
   "outputs": [],
   "source": [
    "import matplotlib \n",
    "import matplotlib.pyplot as plt\n",
    "from matplotlib.patches import Rectangle \n",
    "import numpy as np"
   ]
  },
  {
   "cell_type": "code",
   "execution_count": 4,
   "metadata": {
    "scrolled": true
   },
   "outputs": [
    {
     "data": {
      "image/png": "[encoded data removed]",
      "text/plain": [
       "<Figure size 432x288 with 1 Axes>"
      ]
     },
     "metadata": {},
     "output_type": "display_data"
    }
   ],
   "source": [
    "\n",
    "def cuadrados(posx, ancho, altura, nivel, pot, ax):\n",
    "    ax.add_patch(Rectangle((posx-2*ancho/3, 0), ancho/3, altura-1/2**(pot+1))) #, ec ='g')) \n",
    "    ax.add_patch(Rectangle((posx+ancho+ancho/3, 0), ancho/3, altura+1/2**(pot+1))) #, ec ='g')) \n",
    "    \n",
    "    if nivel > 0:\n",
    "        cuadrados(posx-2*ancho/3, ancho/3, altura-1/2**(pot+1), nivel-1, pot+1, ax)\n",
    "        cuadrados(posx+ancho+ancho/3, ancho/3, altura+1/2**(pot+1), nivel-1, pot+1, ax)\n",
    "\n",
    "        \n",
    "        \n",
    "fig = plt.figure() \n",
    "fig.figsize = (4, 4)\n",
    "\n",
    "ax = fig.add_subplot(111) \n",
    "\n",
    "plt.xlim([0, 1]) \n",
    "plt.ylim([0, 1]) \n",
    "plt.xticks([])\n",
    "plt.yticks([])\n",
    "\n",
    "ax.add_patch(Rectangle((1/3, 0), 1/3, 1/2, ec ='g')) \n",
    "cuadrados(1/3, 1/3, 1/2, 6, 1, ax)\n",
    "\n",
    "plt.title(\"Una escalera peculiar\")\n",
    "plt.show()\n"
   ]
  },
  {
   "cell_type": "code",
   "execution_count": null,
   "metadata": {},
   "outputs": [],
   "source": []
  }
 ],
 "metadata": {
  "kernelspec": {
   "display_name": "Python 3 (ipykernel)",
   "language": "python",
   "name": "python3"
  },
  "language_info": {
   "codemirror_mode": {
    "name": "ipython",
    "version": 3
   },
   "file_extension": ".py",
   "mimetype": "text/x-python",
   "name": "python",
   "nbconvert_exporter": "python",
   "pygments_lexer": "ipython3",
   "version": "3.9.7"
  }
 },
 "nbformat": 4,
 "nbformat_minor": 4
}
